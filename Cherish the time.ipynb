{
 "cells": [
  {
   "cell_type": "markdown",
   "id": "a00b925f-4eb7-47fb-a57c-03686f9d711c",
   "metadata": {},
   "source": [
    "**It make your everydays counted!**"
   ]
  },
  {
   "cell_type": "code",
   "execution_count": 101,
   "id": "96ca23f3-2522-44a6-9706-a7692d202071",
   "metadata": {},
   "outputs": [],
   "source": [
    "def count_live():\n",
    "\n",
    "    exp = input(\"What is your expected age?\")\n",
    "    age = input(\"What is your current age?\")\n",
    "    \n",
    "    n=exp+age\n",
    "    check=n.isnumeric()\n",
    "    \n",
    "    if check == True and int(exp)>int(age):\n",
    "        year = int(exp) - int(age)\n",
    "        months = year*12 \n",
    "        weeks = year *52\n",
    "        days = year*365\n",
    "        print(f'You have {days} days, {weeks} weeks, and {months} left.')\n",
    "        print('Cherish the time!')\n",
    "    elif int(exp)<int(age):\n",
    "        print('Congratulations!You live longer than exptected!')        \n",
    "    else:\n",
    "        print(\"==\"*80)\n",
    "        count_live()"
   ]
  },
  {
   "cell_type": "code",
   "execution_count": null,
   "id": "34d0e399-54af-4267-88e7-141be26ca917",
   "metadata": {},
   "outputs": [],
   "source": [
    "count_live()"
   ]
  },
  {
   "cell_type": "code",
   "execution_count": 100,
   "id": "f36b3b0c-611f-4e37-bb46-b6984979b288",
   "metadata": {},
   "outputs": [],
   "source": [
    "def count_live2(exp):\n",
    "\n",
    "    age = input(\"What is your current age?\")\n",
    "    \n",
    "    check=age.isnumeric()\n",
    "    \n",
    "    if check == True and int(exp)>int(age):\n",
    "        year = int(exp) - int(age)\n",
    "        months = year*12 \n",
    "        weeks = year *52\n",
    "        days = year*365\n",
    "        print(f'You have {days} days, {weeks} weeks, and {months} left.')\n",
    "        print('Cherish the time!')\n",
    "    elif int(exp)<int(age):\n",
    "        print('Congratulations!You live longer than exptected!')\n",
    "    else:\n",
    "        print(\"==\"*50)\n",
    "        count_live2(exp)"
   ]
  },
  {
   "cell_type": "code",
   "execution_count": null,
   "id": "0d27f264-8cc0-4000-aa26-443551fd5420",
   "metadata": {},
   "outputs": [],
   "source": [
    "count_live2(80)"
   ]
  },
  {
   "cell_type": "code",
   "execution_count": null,
   "id": "8ac2eb14-725d-424b-bdd6-24c8f6cfad52",
   "metadata": {},
   "outputs": [],
   "source": []
  }
 ],
 "metadata": {
  "kernelspec": {
   "display_name": "Python 3 (ipykernel)",
   "language": "python",
   "name": "python3"
  },
  "language_info": {
   "codemirror_mode": {
    "name": "ipython",
    "version": 3
   },
   "file_extension": ".py",
   "mimetype": "text/x-python",
   "name": "python",
   "nbconvert_exporter": "python",
   "pygments_lexer": "ipython3",
   "version": "3.10.9"
  },
  "toc-autonumbering": false,
  "toc-showcode": true,
  "toc-showmarkdowntxt": true,
  "toc-showtags": false
 },
 "nbformat": 4,
 "nbformat_minor": 5
}
