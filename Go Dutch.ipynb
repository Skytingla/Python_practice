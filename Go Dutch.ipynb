{
 "cells": [
  {
   "cell_type": "markdown",
   "id": "ef88c47f-aba3-4e23-b2a6-1fdc9f4fcb65",
   "metadata": {},
   "source": [
    "** Go Dutch : Split the Bill**\n",
    "Even division of the bill\n",
    "Ipunt bill amount, number of person and Tips\n",
    "\n"
   ]
  },
  {
   "cell_type": "code",
   "execution_count": 119,
   "id": "a60a37a3-1cee-494c-9bcf-9a0ff719f36b",
   "metadata": {},
   "outputs": [
    {
     "name": "stdin",
     "output_type": "stream",
     "text": [
      "Bill amount 2 decimal places: 140\n",
      "Bill amount 2 decimal places: 140.00\n",
      "Tips(eg: no tips =0, 10% input 10): 2\n",
      "Person: 3\n"
     ]
    },
    {
     "name": "stdout",
     "output_type": "stream",
     "text": [
      "You have to paid :$47.60 dollars\n"
     ]
    }
   ],
   "source": [
    "number = None\n",
    "while not number:\n",
    "    bill = input('Bill amount 2 decimal places:')\n",
    "    string_number = bill.split(\".\")\n",
    "    if len(string_number) != 2:\n",
    "        continue\n",
    "    elif len(string_number[1]) != 2:\n",
    "        continue\n",
    "    try:\n",
    "        number = float(bill)\n",
    "    except ValueError:\n",
    "        Error\n",
    "             \n",
    "check_tips = False\n",
    "while check_tips is False:\n",
    "    tips = input('Tips(eg: no tips =0, 10% input 10):')\n",
    "    check_tips = tips.isnumeric()\n",
    "    ft = float(tips)\n",
    "    \n",
    "check_p = False\n",
    "while check_p is False:\n",
    "    p = input('Person:')\n",
    "    check_p = p.isnumeric()\n",
    "    fp = float(p)\n",
    "\n",
    "share_w = round((number*(ft/100+1.0))/fp,2)\n",
    "share_wo = round(number/fp,2)\n",
    "\n",
    "share_w_t = \"{:.2f}\".format(share_w)\n",
    "share_wo_t = \"{:.2f}\".format(share_wo)\n",
    "\n",
    "if ft == 0:\n",
    "    print(f'You have to paid :${share_wo_t} dollars')\n",
    "else:\n",
    "    print(f'You have to paid :${share_w_t} dollars')\n"
   ]
  },
  {
   "cell_type": "code",
   "execution_count": null,
   "id": "8ab57c1c-3b10-4d93-8b90-cc7feab48e92",
   "metadata": {},
   "outputs": [],
   "source": []
  }
 ],
 "metadata": {
  "kernelspec": {
   "display_name": "Python 3 (ipykernel)",
   "language": "python",
   "name": "python3"
  },
  "language_info": {
   "codemirror_mode": {
    "name": "ipython",
    "version": 3
   },
   "file_extension": ".py",
   "mimetype": "text/x-python",
   "name": "python",
   "nbconvert_exporter": "python",
   "pygments_lexer": "ipython3",
   "version": "3.10.9"
  }
 },
 "nbformat": 4,
 "nbformat_minor": 5
}
