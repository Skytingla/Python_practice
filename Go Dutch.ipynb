{
 "cells": [
  {
   "cell_type": "markdown",
   "id": "ef88c47f-aba3-4e23-b2a6-1fdc9f4fcb65",
   "metadata": {},
   "source": [
    "** Go Dutch : Split the Bill**\n",
    "Even division of the bill\n",
    "Ipunt bill amount, number of person and Tips\n",
    "\n"
   ]
  },
  {
   "cell_type": "code",
   "execution_count": null,
   "id": "a60a37a3-1cee-494c-9bcf-9a0ff719f36b",
   "metadata": {},
   "outputs": [],
   "source": [
    "number = None\n",
    "while not number:\n",
    "    bill = input('Input Amount 2 decimal places:')\n",
    "    string_number = bill.split(\".\")\n",
    "    if len(string_number) != 2:\n",
    "        continue\n",
    "    elif len(string_number[1]) != 2:\n",
    "        continue\n",
    "    try:\n",
    "        number = float(bill)\n",
    "    except ValueError:\n",
    "        Error\n",
    "\n",
    "check_tips = False\n",
    "while check_tips is False:\n",
    "    tips = input('Tips(eg: no tips =0, 10% input 10):')\n",
    "    check_tips = tips.isnumeric()\n",
    "    ft = float(tips)\n",
    "    \n",
    "check_p = False\n",
    "while check_p is False:\n",
    "    p = input('Person:')\n",
    "    check_p = p.isnumeric()\n",
    "    fp = float(p)\n",
    "\n",
    "share_w_t = \"{:.2f}\".format((number*(ft/100+1.0))/fp)\n",
    "share_wo_t = \"{:.2f}\".format(number/fp)\n",
    "\n",
    "if ft == 0:\n",
    "    print(f'You have to paid {share_wo_t} dollars')\n",
    "else:\n",
    "    print(f'You have to paid {share_w_t} dollars')\n"
   ]
  },
  {
   "cell_type": "code",
   "execution_count": null,
   "id": "e60cbe70-5ace-41af-a4b7-46f75358d6e4",
   "metadata": {},
   "outputs": [],
   "source": []
  },
  {
   "cell_type": "code",
   "execution_count": null,
   "id": "83dabed8-44d8-452d-8665-2ccdc3ab20ee",
   "metadata": {},
   "outputs": [],
   "source": []
  }
 ],
 "metadata": {
  "kernelspec": {
   "display_name": "Python 3 (ipykernel)",
   "language": "python",
   "name": "python3"
  },
  "language_info": {
   "codemirror_mode": {
    "name": "ipython",
    "version": 3
   },
   "file_extension": ".py",
   "mimetype": "text/x-python",
   "name": "python",
   "nbconvert_exporter": "python",
   "pygments_lexer": "ipython3",
   "version": "3.10.9"
  }
 },
 "nbformat": 4,
 "nbformat_minor": 5
}
